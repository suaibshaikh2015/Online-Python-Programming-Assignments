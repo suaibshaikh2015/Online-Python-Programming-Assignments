{
 "cells": [
  {
   "cell_type": "code",
   "execution_count": 2,
   "metadata": {},
   "outputs": [
    {
     "name": "stdout",
     "output_type": "stream",
     "text": [
      "Enter Your First Number12\n",
      "Enter Your Opreator**\n",
      "Enter Your First Number10\n",
      "Power of  12  is  61917364224\n"
     ]
    }
   ],
   "source": [
    "#question 1 Make a calculator using Python with addition , subtraction , multiplication ,\n",
    "division and power.\n",
    "\n",
    "num1 = int(input(\"Enter Your First Number\"))\n",
    "opreator = input(\"Enter Your Opreator\")\n",
    "num2 = int(input(\"Enter Your First Number\"))\n",
    "\n",
    "if opreator == '+':\n",
    "    result = num1 + num2\n",
    "    print(\"Addition of \",num1,\" & \",num2,\" is \", result)\n",
    "elif opreator == '-':\n",
    "    result = num1 - num2\n",
    "    print(\"Subtraction of \",num1,\" & \",num2,\" is \", result)\n",
    "elif opreator == '*':\n",
    "    result = num1 * num2\n",
    "    print(\"Multiplication of \",num1,\" & \",num2,\" is \", result)\n",
    "elif opreator == '/':\n",
    "    result = num1 / num2\n",
    "    print(\"Division of \",num1,\" & \",num2,\" is \", result)\n",
    "elif opreator == '**':\n",
    "    result = num1 ** num2\n",
    "    print(\"Power of \",num1, \" is \", result)\n"
   ]
  },
  {
   "cell_type": "code",
   "execution_count": 3,
   "metadata": {},
   "outputs": [
    {
     "name": "stdout",
     "output_type": "stream",
     "text": [
      "30 is a numeric Value in List\n",
      "20 is a numeric Value in List\n",
      "10.5 is a numeric Value in List\n"
     ]
    }
   ],
   "source": [
    "#question 2 Write a program to check if there is any numeric value in list using for loop?\n",
    "arr = ['Muhammad Suaib','Khan',30,20,True,10.5,'a','b']\n",
    "for i in arr:\n",
    "    if type(i) == int:\n",
    "        print(i,\"is a numeric Value in List\")\n",
    "    elif type(i) == float:\n",
    "        print(i,\"is a numeric Value in List\")\n"
   ]
  },
  {
   "cell_type": "code",
   "execution_count": 4,
   "metadata": {},
   "outputs": [
    {
     "name": "stdout",
     "output_type": "stream",
     "text": [
      "Enter KeyCHE GUEVARA\n",
      "Enter Value2000\n",
      "{'CHE GUEVARA': '2000'}\n"
     ]
    }
   ],
   "source": [
    "#question 3 Write a Python script to add a key to a dictionary?\n",
    "dic = {}\n",
    "keyinput = input(\"Enter Key\")\n",
    "valueinput = input(\"Enter Value\")\n",
    "dic.update({keyinput:valueinput})\n",
    "\n",
    "print(dic)"
   ]
  },
  {
   "cell_type": "code",
   "execution_count": 5,
   "metadata": {},
   "outputs": [
    {
     "name": "stdout",
     "output_type": "stream",
     "text": [
      "Sum of all numeric items a dictionary is 180\n"
     ]
    }
   ],
   "source": [
    "#question 4 Write a Python program to sum all the numeric items in a dictionary?\n",
    "dic = {\n",
    "    'num1' : 35,\n",
    "    'num2' : 68,\n",
    "    'string':'Name',\n",
    "    'char':'a',\n",
    "    'num3' : 41,\n",
    "    'num4':36,\n",
    "}\n",
    "\n",
    "sum = 0\n",
    "\n",
    "for i in dic.values():\n",
    "    if type(i) == int:\n",
    "        sum +=i\n",
    "\n",
    "print(\"Sum of all numeric items a dictionary is\" , sum)\n"
   ]
  },
  {
   "cell_type": "code",
   "execution_count": 7,
   "metadata": {},
   "outputs": [
    {
     "name": "stdout",
     "output_type": "stream",
     "text": [
      "Repeted item in list are [1, 3, 2, 5, 7]\n"
     ]
    }
   ],
   "source": [
    "#question 5 Write a program to identify duplicate values from list?\n",
    "arr = [1,3,2,3,2,1,5,6,7,5,7,5,5]\n",
    "list_range = len(arr)\n",
    "repeated = []\n",
    "for i in range (list_range):\n",
    "    a = i + 1\n",
    "    for b in range(a, list_range):\n",
    "        if arr[i] == arr[b] and arr[i] not in repeated:\n",
    "            repeated.append(arr[i])\n",
    "print(\"Repeted item in list are\" , repeated)\n"
   ]
  },
  {
   "cell_type": "code",
   "execution_count": 8,
   "metadata": {},
   "outputs": [
    {
     "name": "stdout",
     "output_type": "stream",
     "text": [
      "Enter Key Name Check if exist or not2\n",
      "Given Key dose not exist\n"
     ]
    }
   ],
   "source": [
    "#question 6 Write a Python script to check if a given key already exists in a dictionary?\n",
    "dic = {\n",
    "    'num1' : 12,\n",
    "    'num2' : 15,\n",
    "    'string':'Name',\n",
    "    'char':'a',\n",
    "    'num3' : 17,\n",
    "    'num4':21,\n",
    "}\n",
    "check_key = input(\"Enter Key Name Check if exist or not\")\n",
    "flag = False\n",
    "for i in dic.keys():\n",
    "    if i == check_key:\n",
    "        flag = True\n",
    "        break\n",
    "\n",
    "if flag:\n",
    "    print(\"Given Key exist\")\n",
    "else:\n",
    "    print(\"Given Key dose not exist\")"
   ]
  },
  {
   "cell_type": "code",
   "execution_count": null,
   "metadata": {},
   "outputs": [],
   "source": []
  }
 ],
 "metadata": {
  "kernelspec": {
   "display_name": "Python 3",
   "language": "python",
   "name": "python3"
  },
  "language_info": {
   "codemirror_mode": {
    "name": "ipython",
    "version": 3
   },
   "file_extension": ".py",
   "mimetype": "text/x-python",
   "name": "python",
   "nbconvert_exporter": "python",
   "pygments_lexer": "ipython3",
   "version": "3.7.4"
  }
 },
 "nbformat": 4,
 "nbformat_minor": 2
}
