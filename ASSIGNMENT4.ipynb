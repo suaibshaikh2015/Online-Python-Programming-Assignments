{
 "cells": [
  {
   "cell_type": "code",
   "execution_count": 1,
   "metadata": {},
   "outputs": [
    {
     "name": "stdout",
     "output_type": "stream",
     "text": [
      "{'first name': 'Muhammad Suaib', 'last name': 'Khan', 'age': 20, 'city': 'Karachi'}\n",
      "{'first name': 'Muhammad Suaib', 'last name': 'Khan', 'age': 20, 'city': 'Karachi', 'qualification': 'To be updated'}\n",
      "{'first name': 'Muhammad Suaib', 'last name': 'Khan', 'age': 20, 'city': 'Karachi', 'qualification': 'high academic level'}\n",
      "{'first name': 'Muhammad Suaib', 'last name': 'Khan', 'age': 20, 'city': 'Karachi'}\n"
     ]
    }
   ],
   "source": [
    "#question 01\n",
    "myinfo = { \n",
    "    \"first name\": \"Muhammad Suaib\",\n",
    "    \"last name\" : \"Khan\",\n",
    "    \"age\"           : 20,\n",
    "    \"city\"          : \"Karachi\"\n",
    "}\n",
    "\n",
    "print(myinfo)\n",
    "\n",
    "myinfo[\"qualification\"] = \"To be updated\"\n",
    "print(myinfo)\n",
    "\n",
    "myinfo[\"qualification\"]= \"high academic level\"\n",
    "print(myinfo)\n",
    "\n",
    "del myinfo[\"qualification\"]\n",
    "print(myinfo)"
   ]
  },
  {
   "cell_type": "code",
   "execution_count": 2,
   "metadata": {},
   "outputs": [
    {
     "name": "stdout",
     "output_type": "stream",
     "text": [
      "{'country': 'Pakistan', 'population': 20000000, 'fact': 'Finacial Hub of Country !'}\n",
      "{'country': 'France', 'population': 299000, 'fact': \"It's a beautiful place !\"}\n",
      "{'country': 'India', 'population': 245000, 'fact': 'It is technology hub !'}\n"
     ]
    }
   ],
   "source": [
    "#question 02\n",
    "cities = {\n",
    "    \"Karachi\" : {\"country\"      : \"Pakistan\" ,\n",
    "                              \"population\" : 20000000,\n",
    "                              \"fact\"            : \"Finacial Hub of Country !\"},\n",
    "    \n",
    "    \"Paris\"           : {\"country\"      : \"France\" ,\n",
    "                              \"population\" : 299000,\n",
    "                              \"fact\"            : \"It's a beautiful place !\"},\n",
    "    \n",
    "    \"Banglore\"    : {\"country\"      : \"India\" ,\n",
    "                              \"population\" : 245000,\n",
    "                              \"fact\"            : \"It is technology hub !\"}\n",
    "}\n",
    "\n",
    "print(cities[\"Karachi\"])\n",
    "print(cities[\"Paris\"])\n",
    "print(cities[\"Banglore\"]) "
   ]
  },
  {
   "cell_type": "code",
   "execution_count": 5,
   "metadata": {},
   "outputs": [
    {
     "name": "stdout",
     "output_type": "stream",
     "text": [
      "\n",
      "Enter your age or 's' to stop asking :20\n",
      "Your ticket is $15 !\n",
      "\n",
      "Enter your age or 's' to stop asking :s\n"
     ]
    }
   ],
   "source": [
    "#question 03\n",
    "flag = True\n",
    "while flag:\n",
    "    age = input(\"\\nEnter your age or 's' to stop asking :\")\n",
    "    \n",
    "    if age.lower() == 's':\n",
    "        flag = False\n",
    "    else:\n",
    "        int_age = int(age)\n",
    "        if int_age < 3:\n",
    "            print(\"Your ticket is free !\")\n",
    "        elif int_age >=3 and int_age <=12:\n",
    "            print(\"Your ticket is $10 !\")\n",
    "        elif int_age > 12:\n",
    "            print(\"Your ticket is $15 !\")"
   ]
  },
  {
   "cell_type": "code",
   "execution_count": 6,
   "metadata": {},
   "outputs": [
    {
     "name": "stdout",
     "output_type": "stream",
     "text": [
      "One of my favorite books is 'Alice in Wonderland'.\n",
      "One of my favorite books is 'You can win '.\n"
     ]
    }
   ],
   "source": [
    "#question 04\n",
    "def favorite_book(title):\n",
    "    print(f\"One of my favorite books is '{title}'.\")\n",
    "    \n",
    "favorite_book(\"Alice in Wonderland\")\n",
    "favorite_book(\"You can win \")"
   ]
  },
  {
   "cell_type": "code",
   "execution_count": 9,
   "metadata": {},
   "outputs": [
    {
     "name": "stdout",
     "output_type": "stream",
     "text": [
      "\n",
      "\tYou have 3 chances to guess the hidden number (from 1 to 40): 15\n",
      "\tYour guess is less than the hidden number !\n",
      "\n",
      "\tYou have 2 chances to guess the hidden number (from 1 to 40): 28\n",
      "\tYour guess is less than the hidden number !\n",
      "\n",
      "\tYou have 1 chances to guess the hidden number (from 1 to 40): 36\n",
      "\tYour guess is greater than the hidden number !\n",
      "\n",
      "\tYou Lost ! :(  Hidden Number was 1\n"
     ]
    }
   ],
   "source": [
    "#question 05\n",
    "import random as rd\n",
    "i = 3\n",
    "while i > 0:\n",
    "    correct_num = rd.randint(1,40)\n",
    "    user_num = int(input(f\"\\n\\tYou have {i} chances to guess the hidden number (from 1 to 40): \"))\n",
    "    \n",
    "    if user_num == correct_num:\n",
    "        print(\"\\t***Congrats ! Correct Guess, You Won*** :)\")\n",
    "        break\n",
    "    elif user_num > correct_num:\n",
    "        print(\"\\tYour guess is greater than the hidden number !\")\n",
    "        i -= 1\n",
    "    elif user_num < correct_num:\n",
    "        print(\"\\tYour guess is less than the hidden number !\")\n",
    "        i-=1\n",
    "    elif user_num < 1 or user_num > 40:\n",
    "        print(\"\\tPlease enter number in range 1 to 40 !\")\n",
    "        \n",
    "if i == 0:\n",
    "    print(f\"\\n\\tYou Lost ! :(  Hidden Number was {correct_num}\")"
   ]
  },
  {
   "cell_type": "code",
   "execution_count": null,
   "metadata": {},
   "outputs": [],
   "source": []
  }
 ],
 "metadata": {
  "kernelspec": {
   "display_name": "Python 3",
   "language": "python",
   "name": "python3"
  },
  "language_info": {
   "codemirror_mode": {
    "name": "ipython",
    "version": 3
   },
   "file_extension": ".py",
   "mimetype": "text/x-python",
   "name": "python",
   "nbconvert_exporter": "python",
   "pygments_lexer": "ipython3",
   "version": "3.7.4"
  }
 },
 "nbformat": 4,
 "nbformat_minor": 2
}
