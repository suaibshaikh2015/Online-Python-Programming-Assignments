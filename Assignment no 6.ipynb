{
 "cells": [
  {
   "cell_type": "markdown",
   "metadata": {},
   "source": [
    "Muhammad Suaib Khan \n",
    "On line Python Progranning\n",
    "Assignment 6\n",
    "Question 1: \n",
    "Define Object Oriented Programming Language? \n",
    "Answer: Object-oriented programming (OOP) refers to a type of computer programming (software design) in which programmers define not only the data type of a data structure, but also the types of operations (functions) that can be applied to the data structure.An object can be defined as a data field that has unique attributes and behavior. Examples of an object can range from physical entities, such as a human being that is described by properties like name and address, down to small computer programs, such as widgets. This opposes the historical approach to programming where emphasis was placed on how the logic was written rather than how to define the data within the logic.\n",
    "\n",
    "Question 2:\n",
    "List down the Benefits of OOP? \n",
    "Answer: Some of the benefits of object-oriented programming include:\n",
    "1.Improved Software-Development Productivity: Object-oriented programming is modular, as it provides separation of duties in object-based program development. It is also extensible, as objects can be extended to include new attributes and behaviors. Objects can also be reused within an across applications.\n",
    "\n",
    "2.Improved Software Maintainability: For the reasons mentioned above, object-oriented software is also easier to maintain. Since the design is modular, part of the system can be updated in case of issues without a need to make large-scale changes.\n",
    "\n",
    "3.Code Reuse and Recycling: Objects created for Object Oriented Programs can easily be reused in other programs.\n",
    "\n",
    "4.Design Benefits: Large programs are very difficult to write. Object Oriented Programs force designers to go through an extensive planning phase, which makes for better designs with less flaws. In addition, once a program reaches a certain size, Object Oriented Programs are actually easier to program than non-Object Oriented ones.\n",
    "\n",
    "5.Lower Cost of Development: The reuse of software also lowers the cost of development. Typically, more effort is put into the object-oriented analysis and design, which lowers the overall cost of development.\n",
    "\n",
    "Question: 3\n",
    "Differentiate between function and method? \n",
    "Function is a sequence of statements that execute in a certain order, given a name.It can be passed data to operate on (i.e. the parameters) and can optionally return data (the return value).  They let us implement code reusability. When we talked about Python Functions, we talked about built-in and user-defined functions.\n",
    "\n",
    "Method is like a function, except it is attached to an object. We call a method on an object, and it possibly makes changes to that object. A method, then, belongs to a class.\n",
    "A method is implicitly passed the object on which it was called.\n",
    "A method is able to operate on data that is contained within the class (remembering that an object is an instance of a class - the class is the definition, the object is an instance of that data).\n",
    "\n",
    "Question 4:\n",
    "Define the following terms:\n",
    "1.Class\n",
    "2.Object\n",
    "3.Attribute\n",
    "4.Behavior\n",
    "\n",
    "Class:\n",
    "A class is a blueprint for objects- one class for any number of objects of that type. You can also call it an abstract data type. Interestingly, it contains no values itself, but it is like a prototype for objects. To define a class in python programming, we use the ‘class’ keyword. This is like we use ‘def’ to define a function in python.\n",
    "\n",
    "Object:\n",
    "Object is simply a collection of data (variables) and methods (functions) that act on those data. And, class is a blueprint for the object.\n",
    "\n",
    "Attribute:\n",
    "An attribute is defined as a quality or characteristic of a person, place, or thing. Real life individuals and fictional characters possess various attributes. An Attribute in Python is a name belonging to an object - a method or a variable.\n",
    "\n",
    "Behaviour:\n",
    "With Behavior, we are writing a specification for the piece of code we are about to write. It is much clearer with Behavior driven development that the specification is written before the code.\n",
    "\n",
    "Question 5:\n",
    "Write a code in python in which create a class named it Car which\n",
    "have 5 attributes such like (model, color and name etc.) and 3\n",
    "methods. And create 5 object instance from that class.\n"
   ]
  },
  {
   "cell_type": "code",
   "execution_count": 8,
   "metadata": {},
   "outputs": [
    {
     "name": "stdout",
     "output_type": "stream",
     "text": [
      "Car Details\n",
      "\n",
      "Owner and car model\n",
      "NAME:Afaq Ahmed\n",
      "MODEL:Mehran\n",
      "\n",
      "Car Specs and Info\n",
      "COLOR:Silver \n",
      "ENGINE:796cc\n",
      "ORIGIN:Made in Pakistan\n"
     ]
    }
   ],
   "source": [
    "class Car:\n",
    "    def __init__(self, name, model,color,enginecc,origin):\n",
    "        self.name = name\n",
    "        self.model = model\n",
    "        self.color = color\n",
    "        self.enginecc = enginecc\n",
    "        self.origin = origin\n",
    "\n",
    "    def myfunc(self):\n",
    "        print(\"Car Details\\n\" )\n",
    "        \n",
    "    def myfunc2(self):\n",
    "        print(\"Owner and car model\\n\" + self.name+ self.model)      \n",
    "    def myfunc3(self):\n",
    "        print(\"Car Specs and Info\\n\"+self.color+ self.enginecc +self.origin)\n",
    "c1 = Car(\"Afaq Ahmed\\n\", \"Mehran\\n\",\"Silver\\n\",\"796cc\\n\",\"Made in Pakistan\")\n",
    "c1.myfunc()\n",
    "c2 = Car(\"NAME:Afaq Ahmed\\n\", \"MODEL:Mehran\\n\",\"Silver\\n\",\"796cc\\n\",\"Made in Pakistan\")\n",
    "c2.myfunc2()\n",
    "c3 = Car(\"Afaq Ahmed\\n\", \"Mehran\\n\",\"COLOR:Silver \\n\",\"ENGINE:796cc\\n\",\"ORIGIN:Made in Pakistan\")\n",
    "c3.myfunc3()\n"
   ]
  },
  {
   "cell_type": "code",
   "execution_count": null,
   "metadata": {},
   "outputs": [],
   "source": []
  }
 ],
 "metadata": {
  "kernelspec": {
   "display_name": "Python 3",
   "language": "python",
   "name": "python3"
  },
  "language_info": {
   "codemirror_mode": {
    "name": "ipython",
    "version": 3
   },
   "file_extension": ".py",
   "mimetype": "text/x-python",
   "name": "python",
   "nbconvert_exporter": "python",
   "pygments_lexer": "ipython3",
   "version": "3.7.4"
  }
 },
 "nbformat": 4,
 "nbformat_minor": 2
}
