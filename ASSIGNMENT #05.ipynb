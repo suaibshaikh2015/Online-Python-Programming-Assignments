{
 "cells": [
  {
   "cell_type": "code",
   "execution_count": 3,
   "metadata": {},
   "outputs": [
    {
     "name": "stdout",
     "output_type": "stream",
     "text": [
      "5040\n"
     ]
    }
   ],
   "source": [
    "#question 1\n",
    "#Definition\n",
    "def factorial(num):\n",
    "    product = 1\n",
    "    while num > 0:\n",
    "        product *= num\n",
    "        num -= 1\n",
    "    print(product)\n",
    "#calling\n",
    "factorial(7)"
   ]
  },
  {
   "cell_type": "code",
   "execution_count": 6,
   "metadata": {},
   "outputs": [
    {
     "name": "stdout",
     "output_type": "stream",
     "text": [
      "There are 14 Lower case letters:\n",
      "There are 3 Upper case letters:\n"
     ]
    }
   ],
   "source": [
    "#question 2\n",
    "#Definition\n",
    "def case_counter(string):\n",
    "    upper_count = 0\n",
    "    lower_count = 0\n",
    "    for letter in string:\n",
    "        if letter == letter.lower():\n",
    "            lower_count += 1\n",
    "        elif letter == letter.upper():\n",
    "            upper_count += 1\n",
    "    print(f\"There are {lower_count} Lower case letters:\")\n",
    "    print(f\"There are {upper_count} Upper case letters:\")\n",
    "# Calling\n",
    "case_counter(\"MuhammadSuaibKhan\")"
   ]
  },
  {
   "cell_type": "code",
   "execution_count": 10,
   "metadata": {},
   "outputs": [
    {
     "name": "stdout",
     "output_type": "stream",
     "text": [
      "22\n",
      "44\n",
      "66\n",
      "88\n",
      "110\n"
     ]
    }
   ],
   "source": [
    "#question 3\n",
    "#Definition\n",
    "def even_printer(numbers):\n",
    "    for number in numbers:\n",
    "        if number % 2 == 0:\n",
    "            print(number)\n",
    "            \n",
    "# Calling\n",
    "even_printer([11,22,33,44,55,66,77,88,99,110])"
   ]
  },
  {
   "cell_type": "code",
   "execution_count": 13,
   "metadata": {},
   "outputs": [
    {
     "name": "stdout",
     "output_type": "stream",
     "text": [
      "This is a palindrome string.\n",
      "This is a palindrome string.\n",
      "This is a palindrome string.\n",
      "This is not a palindrome string.\n"
     ]
    }
   ],
   "source": [
    "#question 4\n",
    "# Definition\n",
    "def check_palindrome(string):\n",
    "    if string == string[::-1]:\n",
    "        print(\"This is a palindrome string.\")\n",
    "    else:\n",
    "        print(\"This is not a palindrome string.\")\n",
    "        \n",
    "# Calling\n",
    "check_palindrome(\"madam\")\n",
    "check_palindrome(\"level\")\n",
    "check_palindrome(\"radar\")\n",
    "check_palindrome(\"Suaib\")"
   ]
  },
  {
   "cell_type": "code",
   "execution_count": 14,
   "metadata": {},
   "outputs": [
    {
     "name": "stdout",
     "output_type": "stream",
     "text": [
      "9 is not a prime number\n",
      "11 is a prime number !\n",
      "15 is not a prime number\n",
      "17 is a prime number !\n"
     ]
    }
   ],
   "source": [
    "#question 5\n",
    "# Definition\n",
    "def check_prime(num):\n",
    "    flag = True\n",
    "    if num > 1:  \n",
    "        for i in range(2,num):  \n",
    "            if (num % i) == 0:  \n",
    "                print(num,\"is not a prime number\")  \n",
    "                flag = False\n",
    "                break  \n",
    "        if flag:\n",
    "            print(num, \"is a prime number !\")\n",
    "\n",
    "    else:\n",
    "        print(num, \"is not a prime number\")\n",
    "\n",
    "    # Calling\n",
    "check_prime(9)\n",
    "check_prime(11)\n",
    "check_prime(15)\n",
    "check_prime(17)"
   ]
  },
  {
   "cell_type": "code",
   "execution_count": 16,
   "metadata": {},
   "outputs": [
    {
     "name": "stdout",
     "output_type": "stream",
     "text": [
      "Items:\n",
      "\n",
      "\tPizza\n",
      "\tTV\n",
      "\tRemote\n",
      "\tScrew Driver\n",
      "\tBurger\n",
      "\tIphone\n"
     ]
    }
   ],
   "source": [
    "# Definition Of Function\n",
    "def shopping(*items):\n",
    "    print(\"Items:\\n\")\n",
    "    for item in items:\n",
    "        print(f\"\\t{item}\")\n",
    "        \n",
    "# Calling\n",
    "shopping(\"Pizza\",\"TV\",\"Remote\",\"Screw Driver\",\"Burger\",\"Iphone\")"
   ]
  },
  {
   "cell_type": "code",
   "execution_count": null,
   "metadata": {},
   "outputs": [],
   "source": []
  }
 ],
 "metadata": {
  "kernelspec": {
   "display_name": "Python 3",
   "language": "python",
   "name": "python3"
  },
  "language_info": {
   "codemirror_mode": {
    "name": "ipython",
    "version": 3
   },
   "file_extension": ".py",
   "mimetype": "text/x-python",
   "name": "python",
   "nbconvert_exporter": "python",
   "pygments_lexer": "ipython3",
   "version": "3.7.4"
  }
 },
 "nbformat": 4,
 "nbformat_minor": 2
}
