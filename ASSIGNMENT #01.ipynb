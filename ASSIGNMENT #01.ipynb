{
 "cells": [
  {
   "cell_type": "code",
   "execution_count": 3,
   "metadata": {},
   "outputs": [
    {
     "name": "stdout",
     "output_type": "stream",
     "text": [
      "Twinkle, twinkle, little star, \n",
      "      How I wonder what you are! \n",
      "            Up above the world so high, \n",
      "            Like a diamond in the sky. \n",
      "Twinkle, twinkle, little star, \n",
      "      How I wonder what you are\n"
     ]
    }
   ],
   "source": [
    "1. Write a Python program to print the following string in a specific format (see the output).  \n",
    "Twinkle, twinkle, little star,  \n",
    "How I wonder what you are!    \n",
    "Up above the world so high,       \n",
    "Like a diamond in the sky.  \n",
    "Twinkle, twinkle, little star,   \n",
    "How I wonder what you are\n",
    "\n",
    "x=\"Twinkle, twinkle, little star,\"\n",
    "y=\"\\n      How I wonder what you are!\" \n",
    "z=\"\\n            Up above the world so high,\" \n",
    "g=\"\\n            Like a diamond in the sky.\"\n",
    "k=\"\\nTwinkle, twinkle, little star,\"\n",
    "j=\"\\n      How I wonder what you are\"\n",
    "print(x,y,z,g,k,j)"
   ]
  },
  {
   "cell_type": "code",
   "execution_count": 4,
   "metadata": {},
   "outputs": [
    {
     "data": {
      "text/plain": [
       "'3.7.4 (default, Aug  9 2019, 18:34:13) [MSC v.1915 64 bit (AMD64)]'"
      ]
     },
     "execution_count": 4,
     "metadata": {},
     "output_type": "execute_result"
    }
   ],
   "source": [
    "2. Write a Python program to get the Python version you are using?\n",
    "import sys#here we import library that are \"Built In\" in pythion\n",
    "sys.version"
   ]
  },
  {
   "cell_type": "code",
   "execution_count": 5,
   "metadata": {},
   "outputs": [
    {
     "name": "stdout",
     "output_type": "stream",
     "text": [
      "Today's date: 2019-11-04 18:11:15.906784\n",
      "Date AND Time = 04/11/2019 AND 18:11:15\n"
     ]
    }
   ],
   "source": [
    "3.Write a Python program to display the current date and time.\n",
    "from datetime import datetime\n",
    "\n",
    "# datetime object containing current date and time\n",
    "now = datetime.now()\n",
    "print(\"Today's date:\", now)\n",
    "\n",
    "# dd/mm/YY H:M:S\n",
    "dt_string = now.strftime(\"%d/%m/%Y AND %H:%M:%S\")\n",
    "print(\"Date AND Time =\", dt_string)"
   ]
  },
  {
   "cell_type": "code",
   "execution_count": 6,
   "metadata": {},
   "outputs": [
    {
     "name": "stdout",
     "output_type": "stream",
     "text": [
      "Enter radius of circle: 4\n",
      "50.27\n"
     ]
    }
   ],
   "source": [
    "4. Write a Python program which accepts the radius of a circle from the user and compute the area.\n",
    "r = int(input(\"Enter radius of circle: \"))\n",
    "# area pie r square\n",
    "area=(3.14159)*(r**2)\n",
    "print(round(area,2))"
   ]
  },
  {
   "cell_type": "code",
   "execution_count": 7,
   "metadata": {},
   "outputs": [
    {
     "name": "stdout",
     "output_type": "stream",
     "text": [
      "Enter your first name: MUHAMMAD SUAIB\n",
      "Enter your last name: KHAN\n",
      "Reverse of your name is:  KHAN MUHAMMAD SUAIB\n"
     ]
    }
   ],
   "source": [
    "5. Write a Python program which accepts the user's first and last name and print them in reverse order with a space between them.\n",
    "first_name = input(\"Enter your first name: \")\n",
    "last_name =  input(\"Enter your last name: \")\n",
    "c = last_name+\" \"+first_name\n",
    "print(\"Reverse of your name is: \",c)"
   ]
  },
  {
   "cell_type": "code",
   "execution_count": 8,
   "metadata": {},
   "outputs": [
    {
     "name": "stdout",
     "output_type": "stream",
     "text": [
      "Enter a first number: 64\n",
      "Enter a second number: 16\n",
      "addition of your given numbers is:  80\n"
     ]
    }
   ],
   "source": [
    "6. Write a python program which takes two inputs from user and print them addition.\n",
    "x = int(input(\"Enter a first number: \"))\n",
    "y = int(input(\"Enter a second number: \"))\n",
    "print(\"addition of your given numbers is: \",x + y)"
   ]
  }
 ],
 "metadata": {
  "kernelspec": {
   "display_name": "Python 3",
   "language": "python",
   "name": "python3"
  },
  "language_info": {
   "codemirror_mode": {
    "name": "ipython",
    "version": 3
   },
   "file_extension": ".py",
   "mimetype": "text/x-python",
   "name": "python",
   "nbconvert_exporter": "python",
   "pygments_lexer": "ipython3",
   "version": "3.7.4"
  }
 },
 "nbformat": 4,
 "nbformat_minor": 2
}
